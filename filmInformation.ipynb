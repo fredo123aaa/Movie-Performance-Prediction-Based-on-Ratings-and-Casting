{
 "cells": [
  {
   "cell_type": "code",
   "execution_count": 4,
   "metadata": {},
   "outputs": [
    {
     "name": "stdout",
     "output_type": "stream",
     "text": [
      "The links have been generated and saved to D:/Escritorio/Second period 2024-2025/Data analysis/assigment 2 ntbk/movies_with_links.csv\n"
     ]
    }
   ],
   "source": [
    "import pandas as pd\n",
    "\n",
    "# Load the dataset\n",
    "file_path = 'D:/Escritorio/Second period 2024-2025/Data analysis/assigment 2 ntbk/movies_data_7100.csv'\n",
    "movies_df = pd.read_csv(file_path)\n",
    "\n",
    "# Check if the 'ID' column exists\n",
    "if 'ID' in movies_df.columns:\n",
    "    # Create a new column with the Box Office Mojo links\n",
    "    movies_df['BoxOfficeMojo_Link'] = 'https://www.boxofficemojo.com/title/' + movies_df['ID'] + '/'\n",
    "    \n",
    "    # Save the updated DataFrame to a new CSV\n",
    "    output_path = 'D:/Escritorio/Second period 2024-2025/Data analysis/assigment 2 ntbk/movies_with_links.csv'\n",
    "    movies_df.to_csv(output_path, index=False)\n",
    "    print(f\"The links have been generated and saved to {output_path}\")\n",
    "else:\n",
    "    print(\"The 'ID' column is missing from the dataset.\")\n"
   ]
  }
 ],
 "metadata": {
  "kernelspec": {
   "display_name": "Python 3",
   "language": "python",
   "name": "python3"
  },
  "language_info": {
   "codemirror_mode": {
    "name": "ipython",
    "version": 3
   },
   "file_extension": ".py",
   "mimetype": "text/x-python",
   "name": "python",
   "nbconvert_exporter": "python",
   "pygments_lexer": "ipython3",
   "version": "3.9.13"
  }
 },
 "nbformat": 4,
 "nbformat_minor": 2
}
